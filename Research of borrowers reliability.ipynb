{
 "cells": [
  {
   "cell_type": "markdown",
   "metadata": {},
   "source": [
    "## Исследование надёжности заёмщиков\n",
    "\n",
    "Заказчик — кредитный отдел банка. Нужно разобраться, влияет ли семейное положение и количество детей клиента на факт погашения кредита в срок. Входные данные от банка — статистика о платёжеспособности клиентов.\n",
    "\n",
    "Результаты исследования будут учтены при построении модели **кредитного скоринга** — специальной системы, которая оценивает способность потенциального заёмщика вернуть кредит банку."
   ]
  },
  {
   "cell_type": "markdown",
   "metadata": {},
   "source": [
    "### Шаг 1. Откройте файл с данными и изучите общую информацию. "
   ]
  },
  {
   "cell_type": "markdown",
   "metadata": {},
   "source": [
    "**[1]** Изучим первые 15 строк массива и посмотрим на состав столбцов."
   ]
  },
  {
   "cell_type": "code",
   "execution_count": 2,
   "metadata": {},
   "outputs": [
    {
     "ename": "FileNotFoundError",
     "evalue": "[Errno 2] File b'/datasets/data.csv' does not exist: b'/datasets/data.csv'",
     "output_type": "error",
     "traceback": [
      "\u001b[0;31m---------------------------------------------------------------------------\u001b[0m",
      "\u001b[0;31mFileNotFoundError\u001b[0m                         Traceback (most recent call last)",
      "\u001b[0;32m<ipython-input-2-7184f087003b>\u001b[0m in \u001b[0;36m<module>\u001b[0;34m\u001b[0m\n\u001b[1;32m      3\u001b[0m \u001b[0;32mimport\u001b[0m \u001b[0mmatplotlib\u001b[0m\u001b[0;34m.\u001b[0m\u001b[0mpyplot\u001b[0m \u001b[0;32mas\u001b[0m \u001b[0mplt\u001b[0m\u001b[0;34m\u001b[0m\u001b[0;34m\u001b[0m\u001b[0m\n\u001b[1;32m      4\u001b[0m \u001b[0;32mfrom\u001b[0m \u001b[0mmatplotlib\u001b[0m \u001b[0;32mimport\u001b[0m \u001b[0mcolors\u001b[0m\u001b[0;34m\u001b[0m\u001b[0;34m\u001b[0m\u001b[0m\n\u001b[0;32m----> 5\u001b[0;31m \u001b[0mdata\u001b[0m \u001b[0;34m=\u001b[0m \u001b[0mpd\u001b[0m\u001b[0;34m.\u001b[0m\u001b[0mread_csv\u001b[0m\u001b[0;34m(\u001b[0m\u001b[0;34m'/datasets/data.csv'\u001b[0m\u001b[0;34m)\u001b[0m\u001b[0;34m\u001b[0m\u001b[0;34m\u001b[0m\u001b[0m\n\u001b[0m\u001b[1;32m      6\u001b[0m \u001b[0mdata\u001b[0m\u001b[0;34m.\u001b[0m\u001b[0minfo\u001b[0m\u001b[0;34m(\u001b[0m\u001b[0;34m)\u001b[0m\u001b[0;34m\u001b[0m\u001b[0;34m\u001b[0m\u001b[0m\n\u001b[1;32m      7\u001b[0m \u001b[0mdata\u001b[0m\u001b[0;34m.\u001b[0m\u001b[0mhead\u001b[0m\u001b[0;34m(\u001b[0m\u001b[0;36m15\u001b[0m\u001b[0;34m)\u001b[0m\u001b[0;34m\u001b[0m\u001b[0;34m\u001b[0m\u001b[0m\n",
      "\u001b[0;32m//anaconda3/lib/python3.7/site-packages/pandas/io/parsers.py\u001b[0m in \u001b[0;36mparser_f\u001b[0;34m(filepath_or_buffer, sep, delimiter, header, names, index_col, usecols, squeeze, prefix, mangle_dupe_cols, dtype, engine, converters, true_values, false_values, skipinitialspace, skiprows, skipfooter, nrows, na_values, keep_default_na, na_filter, verbose, skip_blank_lines, parse_dates, infer_datetime_format, keep_date_col, date_parser, dayfirst, iterator, chunksize, compression, thousands, decimal, lineterminator, quotechar, quoting, doublequote, escapechar, comment, encoding, dialect, tupleize_cols, error_bad_lines, warn_bad_lines, delim_whitespace, low_memory, memory_map, float_precision)\u001b[0m\n\u001b[1;32m    700\u001b[0m                     skip_blank_lines=skip_blank_lines)\n\u001b[1;32m    701\u001b[0m \u001b[0;34m\u001b[0m\u001b[0m\n\u001b[0;32m--> 702\u001b[0;31m         \u001b[0;32mreturn\u001b[0m \u001b[0m_read\u001b[0m\u001b[0;34m(\u001b[0m\u001b[0mfilepath_or_buffer\u001b[0m\u001b[0;34m,\u001b[0m \u001b[0mkwds\u001b[0m\u001b[0;34m)\u001b[0m\u001b[0;34m\u001b[0m\u001b[0;34m\u001b[0m\u001b[0m\n\u001b[0m\u001b[1;32m    703\u001b[0m \u001b[0;34m\u001b[0m\u001b[0m\n\u001b[1;32m    704\u001b[0m     \u001b[0mparser_f\u001b[0m\u001b[0;34m.\u001b[0m\u001b[0m__name__\u001b[0m \u001b[0;34m=\u001b[0m \u001b[0mname\u001b[0m\u001b[0;34m\u001b[0m\u001b[0;34m\u001b[0m\u001b[0m\n",
      "\u001b[0;32m//anaconda3/lib/python3.7/site-packages/pandas/io/parsers.py\u001b[0m in \u001b[0;36m_read\u001b[0;34m(filepath_or_buffer, kwds)\u001b[0m\n\u001b[1;32m    427\u001b[0m \u001b[0;34m\u001b[0m\u001b[0m\n\u001b[1;32m    428\u001b[0m     \u001b[0;31m# Create the parser.\u001b[0m\u001b[0;34m\u001b[0m\u001b[0;34m\u001b[0m\u001b[0;34m\u001b[0m\u001b[0m\n\u001b[0;32m--> 429\u001b[0;31m     \u001b[0mparser\u001b[0m \u001b[0;34m=\u001b[0m \u001b[0mTextFileReader\u001b[0m\u001b[0;34m(\u001b[0m\u001b[0mfilepath_or_buffer\u001b[0m\u001b[0;34m,\u001b[0m \u001b[0;34m**\u001b[0m\u001b[0mkwds\u001b[0m\u001b[0;34m)\u001b[0m\u001b[0;34m\u001b[0m\u001b[0;34m\u001b[0m\u001b[0m\n\u001b[0m\u001b[1;32m    430\u001b[0m \u001b[0;34m\u001b[0m\u001b[0m\n\u001b[1;32m    431\u001b[0m     \u001b[0;32mif\u001b[0m \u001b[0mchunksize\u001b[0m \u001b[0;32mor\u001b[0m \u001b[0miterator\u001b[0m\u001b[0;34m:\u001b[0m\u001b[0;34m\u001b[0m\u001b[0;34m\u001b[0m\u001b[0m\n",
      "\u001b[0;32m//anaconda3/lib/python3.7/site-packages/pandas/io/parsers.py\u001b[0m in \u001b[0;36m__init__\u001b[0;34m(self, f, engine, **kwds)\u001b[0m\n\u001b[1;32m    893\u001b[0m             \u001b[0mself\u001b[0m\u001b[0;34m.\u001b[0m\u001b[0moptions\u001b[0m\u001b[0;34m[\u001b[0m\u001b[0;34m'has_index_names'\u001b[0m\u001b[0;34m]\u001b[0m \u001b[0;34m=\u001b[0m \u001b[0mkwds\u001b[0m\u001b[0;34m[\u001b[0m\u001b[0;34m'has_index_names'\u001b[0m\u001b[0;34m]\u001b[0m\u001b[0;34m\u001b[0m\u001b[0;34m\u001b[0m\u001b[0m\n\u001b[1;32m    894\u001b[0m \u001b[0;34m\u001b[0m\u001b[0m\n\u001b[0;32m--> 895\u001b[0;31m         \u001b[0mself\u001b[0m\u001b[0;34m.\u001b[0m\u001b[0m_make_engine\u001b[0m\u001b[0;34m(\u001b[0m\u001b[0mself\u001b[0m\u001b[0;34m.\u001b[0m\u001b[0mengine\u001b[0m\u001b[0;34m)\u001b[0m\u001b[0;34m\u001b[0m\u001b[0;34m\u001b[0m\u001b[0m\n\u001b[0m\u001b[1;32m    896\u001b[0m \u001b[0;34m\u001b[0m\u001b[0m\n\u001b[1;32m    897\u001b[0m     \u001b[0;32mdef\u001b[0m \u001b[0mclose\u001b[0m\u001b[0;34m(\u001b[0m\u001b[0mself\u001b[0m\u001b[0;34m)\u001b[0m\u001b[0;34m:\u001b[0m\u001b[0;34m\u001b[0m\u001b[0;34m\u001b[0m\u001b[0m\n",
      "\u001b[0;32m//anaconda3/lib/python3.7/site-packages/pandas/io/parsers.py\u001b[0m in \u001b[0;36m_make_engine\u001b[0;34m(self, engine)\u001b[0m\n\u001b[1;32m   1120\u001b[0m     \u001b[0;32mdef\u001b[0m \u001b[0m_make_engine\u001b[0m\u001b[0;34m(\u001b[0m\u001b[0mself\u001b[0m\u001b[0;34m,\u001b[0m \u001b[0mengine\u001b[0m\u001b[0;34m=\u001b[0m\u001b[0;34m'c'\u001b[0m\u001b[0;34m)\u001b[0m\u001b[0;34m:\u001b[0m\u001b[0;34m\u001b[0m\u001b[0;34m\u001b[0m\u001b[0m\n\u001b[1;32m   1121\u001b[0m         \u001b[0;32mif\u001b[0m \u001b[0mengine\u001b[0m \u001b[0;34m==\u001b[0m \u001b[0;34m'c'\u001b[0m\u001b[0;34m:\u001b[0m\u001b[0;34m\u001b[0m\u001b[0;34m\u001b[0m\u001b[0m\n\u001b[0;32m-> 1122\u001b[0;31m             \u001b[0mself\u001b[0m\u001b[0;34m.\u001b[0m\u001b[0m_engine\u001b[0m \u001b[0;34m=\u001b[0m \u001b[0mCParserWrapper\u001b[0m\u001b[0;34m(\u001b[0m\u001b[0mself\u001b[0m\u001b[0;34m.\u001b[0m\u001b[0mf\u001b[0m\u001b[0;34m,\u001b[0m \u001b[0;34m**\u001b[0m\u001b[0mself\u001b[0m\u001b[0;34m.\u001b[0m\u001b[0moptions\u001b[0m\u001b[0;34m)\u001b[0m\u001b[0;34m\u001b[0m\u001b[0;34m\u001b[0m\u001b[0m\n\u001b[0m\u001b[1;32m   1123\u001b[0m         \u001b[0;32melse\u001b[0m\u001b[0;34m:\u001b[0m\u001b[0;34m\u001b[0m\u001b[0;34m\u001b[0m\u001b[0m\n\u001b[1;32m   1124\u001b[0m             \u001b[0;32mif\u001b[0m \u001b[0mengine\u001b[0m \u001b[0;34m==\u001b[0m \u001b[0;34m'python'\u001b[0m\u001b[0;34m:\u001b[0m\u001b[0;34m\u001b[0m\u001b[0;34m\u001b[0m\u001b[0m\n",
      "\u001b[0;32m//anaconda3/lib/python3.7/site-packages/pandas/io/parsers.py\u001b[0m in \u001b[0;36m__init__\u001b[0;34m(self, src, **kwds)\u001b[0m\n\u001b[1;32m   1851\u001b[0m         \u001b[0mkwds\u001b[0m\u001b[0;34m[\u001b[0m\u001b[0;34m'usecols'\u001b[0m\u001b[0;34m]\u001b[0m \u001b[0;34m=\u001b[0m \u001b[0mself\u001b[0m\u001b[0;34m.\u001b[0m\u001b[0musecols\u001b[0m\u001b[0;34m\u001b[0m\u001b[0;34m\u001b[0m\u001b[0m\n\u001b[1;32m   1852\u001b[0m \u001b[0;34m\u001b[0m\u001b[0m\n\u001b[0;32m-> 1853\u001b[0;31m         \u001b[0mself\u001b[0m\u001b[0;34m.\u001b[0m\u001b[0m_reader\u001b[0m \u001b[0;34m=\u001b[0m \u001b[0mparsers\u001b[0m\u001b[0;34m.\u001b[0m\u001b[0mTextReader\u001b[0m\u001b[0;34m(\u001b[0m\u001b[0msrc\u001b[0m\u001b[0;34m,\u001b[0m \u001b[0;34m**\u001b[0m\u001b[0mkwds\u001b[0m\u001b[0;34m)\u001b[0m\u001b[0;34m\u001b[0m\u001b[0;34m\u001b[0m\u001b[0m\n\u001b[0m\u001b[1;32m   1854\u001b[0m         \u001b[0mself\u001b[0m\u001b[0;34m.\u001b[0m\u001b[0munnamed_cols\u001b[0m \u001b[0;34m=\u001b[0m \u001b[0mself\u001b[0m\u001b[0;34m.\u001b[0m\u001b[0m_reader\u001b[0m\u001b[0;34m.\u001b[0m\u001b[0munnamed_cols\u001b[0m\u001b[0;34m\u001b[0m\u001b[0;34m\u001b[0m\u001b[0m\n\u001b[1;32m   1855\u001b[0m \u001b[0;34m\u001b[0m\u001b[0m\n",
      "\u001b[0;32mpandas/_libs/parsers.pyx\u001b[0m in \u001b[0;36mpandas._libs.parsers.TextReader.__cinit__\u001b[0;34m()\u001b[0m\n",
      "\u001b[0;32mpandas/_libs/parsers.pyx\u001b[0m in \u001b[0;36mpandas._libs.parsers.TextReader._setup_parser_source\u001b[0;34m()\u001b[0m\n",
      "\u001b[0;31mFileNotFoundError\u001b[0m: [Errno 2] File b'/datasets/data.csv' does not exist: b'/datasets/data.csv'"
     ]
    }
   ],
   "source": [
    "import pandas as pd\n",
    "import numpy as np\n",
    "import matplotlib.pyplot as plt\n",
    "from matplotlib import colors\n",
    "data = pd.read_csv('/datasets/data.csv')\n",
    "data.info()\n",
    "data.head(15)"
   ]
  },
  {
   "cell_type": "markdown",
   "metadata": {},
   "source": [
    "**[2]** Построим гистограмму ежемесячных доходов."
   ]
  },
  {
   "cell_type": "code",
   "execution_count": null,
   "metadata": {},
   "outputs": [],
   "source": [
    "ax1 = plt.hist(data['total_income'], bins=int(np.sqrt(len(data))))\n",
    "\n",
    "# N — счетчик в каждом баре (столбце), bins — нижняя граница бара\n",
    "N, bins, patches = plt.hist(data['total_income'], bins=int(np.sqrt(len(data))))\n",
    "                               \n",
    "# Для кодирования цвета будем использовать относительную высоту\n",
    "fracs = N / N.max()\n",
    "\n",
    "# нормализуем fracs до промежутка между 0 и 1 для полноценного цветового диапазона\n",
    "norm = colors.Normalize(fracs.min(), fracs.max())\n",
    "\n",
    "# нужно пройтись циклом по полученным объектам и установить цвет для каждого в отдельности\n",
    "for thisfrac, thispatch in zip(fracs, patches):\n",
    "    color = plt.cm.viridis(norm(thisfrac))\n",
    "    thispatch.set_facecolor(color)\n",
    "\n",
    "ax1 = plt.xlabel('$Ежемесячный$ $доход, руб.$', fontsize=11)\n",
    "ax1 = plt.ylabel('$Клиенты, чел.$', fontsize=11)\n",
    "plt.title('Гистограмма ежемесячных доходов', fontsize=13)\n",
    "plt.text(1000000, 1500, '$\\mu=167422,\\sigma=102972$', fontsize=13)\n",
    "plt.show()\n",
    "print(round(data['total_income'].describe()))"
   ]
  },
  {
   "cell_type": "markdown",
   "metadata": {},
   "source": [
    "**[3]** Построим гистограмму возраста клиентов."
   ]
  },
  {
   "cell_type": "code",
   "execution_count": null,
   "metadata": {},
   "outputs": [],
   "source": [
    "plt.xticks(np.arange((data['dob_years'].min()), (data['dob_years'].max() + 5), 5.0))\n",
    "ax2 = plt.hist(data['dob_years'], bins=15, color='tab:purple')\n",
    "\n",
    "# N — счетчик в каждом баре (столбце), bins — нижняя граница бара\n",
    "N, bins, patches = plt.hist(data['dob_years'], bins=15)\n",
    "                               \n",
    "# Для кодирования цвета будем использовать относительную высоту\n",
    "fracs = N / N.max()\n",
    "\n",
    "# нормализуем fracs до промежутка между 0 и 1 для полноценного цветового диапазона\n",
    "norm = colors.Normalize(fracs.min(), fracs.max())\n",
    "\n",
    "# нужно пройтись циклом по полученным объектам и установить цвет для каждого в отдельности\n",
    "for thisfrac, thispatch in zip(fracs, patches):\n",
    "    color = plt.cm.viridis(norm(thisfrac))\n",
    "    thispatch.set_facecolor(color)\n",
    "\n",
    "ax2 = plt.xlabel('$Возраст, лет$', fontsize=11)\n",
    "ax2 = plt.ylabel('$Клиенты, чел.$', fontsize=11)\n",
    "plt.title('Гистограмма возраста клиентов', fontsize=13)\n",
    "plt.show()"
   ]
  },
  {
   "cell_type": "markdown",
   "metadata": {},
   "source": [
    "**[4]** Построим гистограмму численности детей."
   ]
  },
  {
   "cell_type": "code",
   "execution_count": null,
   "metadata": {
    "scrolled": true
   },
   "outputs": [],
   "source": [
    "plt.xticks(np.arange((data['children'].min()-1), (data['children'].max() + 1), 1.0))\n",
    "ax3 = plt.hist(data['children'], bins=25)\n",
    "\n",
    "# N — счетчик в каждом баре (столбце), bins — нижняя граница бара\n",
    "N, bins, patches = plt.hist(data['children'], bins=25)\n",
    "                               \n",
    "# Для кодирования цвета будем использовать относительную высоту\n",
    "fracs = N / N.max()\n",
    "\n",
    "# нормализуем fracs до промежутка между 0 и 1 для полноценного цветового диапазона\n",
    "norm = colors.Normalize(fracs.min(), fracs.max())\n",
    "\n",
    "# нужно пройтись циклом по полученным объектам и установить цвет для каждого в отдельности\n",
    "for thisfrac, thispatch in zip(fracs, patches):\n",
    "    color = plt.cm.viridis(norm(thisfrac))\n",
    "    thispatch.set_facecolor(color)\n",
    "\n",
    "ax3 = plt.xlabel('$Дети, чел.$', fontsize=11)\n",
    "ax3 = plt.ylabel('$Клиенты, чел.$', fontsize=11)\n",
    "plt.title('Гистограмма численности детей', fontsize=13)\n",
    "plt.show()"
   ]
  },
  {
   "cell_type": "markdown",
   "metadata": {},
   "source": [
    "**[5]** Построим гистограмму дней трудового стажа."
   ]
  },
  {
   "cell_type": "code",
   "execution_count": null,
   "metadata": {
    "scrolled": true
   },
   "outputs": [],
   "source": [
    "ax4 = plt.hist(data['days_employed'], bins=30, color='tab:blue')\n",
    "\n",
    "# N — счетчик в каждом баре (столбце), bins — нижняя граница бара\n",
    "N, bins, patches = plt.hist(data['days_employed'], bins=30)\n",
    "                               \n",
    "# Для кодирования цвета будем использовать относительную высоту\n",
    "fracs = N / N.max()\n",
    "\n",
    "# нормализуем fracs до промежутка между 0 и 1 для полноценного цветового диапазона\n",
    "norm = colors.Normalize(fracs.min(), fracs.max())\n",
    "\n",
    "# нужно пройтись циклом по полученным объектам и установить цвет для каждого в отдельности\n",
    "for thisfrac, thispatch in zip(fracs, patches):\n",
    "    color = plt.cm.viridis(norm(thisfrac))\n",
    "    thispatch.set_facecolor(color)\n",
    "\n",
    "ax4 = plt.xlabel('$Стаж, дней$', fontsize=11)\n",
    "ax4 = plt.ylabel('$Клиенты, чел.$', fontsize=11)\n",
    "plt.title('Гистограмма дней трудового стажа', fontsize=13)\n",
    "plt.show()"
   ]
  },
  {
   "cell_type": "markdown",
   "metadata": {},
   "source": [
    "Для наглядности построим точечную диаграмму зависимости трудового стажа от возраста клиента для трех классов: нулевого возраста клиента, положительного и отрицательного трудового стажа."
   ]
  },
  {
   "cell_type": "code",
   "execution_count": null,
   "metadata": {
    "scrolled": false
   },
   "outputs": [],
   "source": [
    "# сделаем выборку из нулевого возраста и соотвествующих значений трудового стажа\n",
    "zero_age = data.loc[data['dob_years'] == 0, 'dob_years']\n",
    "days_employed_for_age_null = data.loc[data['dob_years'] == 0, 'days_employed']\n",
    "\n",
    "# сделаем выборку из положительных значений трудового стажа и возраста клиентов (без нулевых возрастов)\n",
    "age_for_positive_days_employed = data.loc[(data['days_employed'] > 0) & (data['dob_years'] != 0), 'dob_years']\n",
    "positive_days_employed = data.loc[(data['days_employed'] > 0) & (data['dob_years'] != 0), 'days_employed']\n",
    "\n",
    "# сделаем выборку из отрицательных значений трудового стажа и возраста клиентов (без нулевых возрастов)\n",
    "age_for_negative_days_employed = data.loc[(data['days_employed'] < 0) & (data['dob_years'] != 0), 'dob_years']\n",
    "negative_days_employed = data.loc[(data['days_employed'] < 0) & (data['dob_years'] != 0), 'days_employed']\n",
    "\n",
    "# строим диаграмму\n",
    "plt.title('Точечная диаграмма зависимости трудового стажа от возраста клиента')\n",
    "plt.xlabel('Возраст клиента, лет')\n",
    "plt.ylabel('Трудовой стаж, дней')\n",
    "plt.scatter(zero_age, days_employed_for_age_null, \n",
    "            c = 'c', marker = '|', label = 'Стаж у клиентов с нулевым возрастом')\n",
    "plt.scatter(age_for_positive_days_employed, positive_days_employed, \n",
    "            c = 'g', marker = '|', label = 'Положительный трудовой стаж')\n",
    "plt.scatter(age_for_negative_days_employed, negative_days_employed, \n",
    "            c = 'r', marker = '|', label = 'Отрицательный трудовой стаж')\n",
    "plt.legend()\n",
    "plt.show()"
   ]
  },
  {
   "cell_type": "markdown",
   "metadata": {},
   "source": [
    "### Вывод"
   ]
  },
  {
   "cell_type": "markdown",
   "metadata": {},
   "source": [
    "**[1]** В файле *'data.csv'* обнаружен двумерный массив из данных о 21525 клиентах: каждый клиент описывается 12 признаками, 4 из которых относятся к количественным признакам, 8 – к категориальным или бинарным.\n",
    "\n",
    "Существуют пропущенные значения по общему трудовому стажу (*'days_employed'*) и ежемесячному доходу (*'total_income'*) у 2174 клиентов, это около 10% от общего числа клиентов – немалая величина. Необходимо проверить, является ли отсутствие данных по трудовому стажу причиной отсутствия данных по доходам, и наоборот.\n",
    "\n",
    "Значения уровня образования указаны то прописными буквами, то — строчными. В будущем необходимо сделать выбор уровня образования с помощью выпадающего списка, чтобы устранить человеческий фактор при наборе этого признака. В данном массиве необходимо все значения привести к нижнему регистру для единообразия.\n",
    "\n",
    "\n",
    "**[2]** Серьезных аномалий в ежемесячных доходов не выявлено, если не считать пропущенные значения и асимметрии справа. Полученные на данном этапе статистики вроде матожидания, равного 167 422 руб. и стандартного отклонения в 102 972 руб., будут пересчитаны после обработки пропусков.\n",
    "\n",
    "**[3]** В данные о возрасте клиентов попали нулевые значения, их надо будет устранить, а также обратить внимание, действительно ли ошибка вызвана человеческим фактором.\n",
    "\n",
    "\n",
    "**[4]** У большинства клиентов численность детей варьируется от 0 до 4, однако, у некоторых все же детей -1 чел. или 20 чел. Эти выбросы будут заменены из предположения, что вместо 1 ребенка записали вручную -1, а под 20 детьми подразумевали все-таки только двоих.\n",
    "\n",
    "\n",
    "**[5]** И, наконец, победитель количественных аномалий — дни трудового стажа клиентов. Здесь присутствуют как отрицательные значения, так и положительные (но уже масштабом в сотни лет). Требуется информация от сотрудников, выгружавших эти данные: что именно под ними подразумевается. Возможно, эти данные отображают временную дельту от базовой даты."
   ]
  },
  {
   "cell_type": "markdown",
   "metadata": {},
   "source": [
    "### Шаг 2. Предобработка данных"
   ]
  },
  {
   "cell_type": "markdown",
   "metadata": {},
   "source": [
    "### Обработка пропусков"
   ]
  },
  {
   "cell_type": "markdown",
   "metadata": {},
   "source": [
    "**[1]** Обработка пропущенных значений ежемесячного дохода"
   ]
  },
  {
   "cell_type": "markdown",
   "metadata": {},
   "source": [
    "Заменим пустые значения в ежемесячном доходе на медианные по каждому типу занятости."
   ]
  },
  {
   "cell_type": "code",
   "execution_count": null,
   "metadata": {},
   "outputs": [],
   "source": [
    "# Для этого проверим, в каких типах занятости встречаются пропущенные значения доходов.\n",
    "data.loc[data['total_income'].isnull(), 'income_type'].value_counts()"
   ]
  },
  {
   "cell_type": "code",
   "execution_count": null,
   "metadata": {},
   "outputs": [],
   "source": [
    "# Найдем медианные уровни дохода для каждого типа занятости\n",
    "medians_total_income = data.groupby('income_type')['total_income'].median()\n",
    "round(medians_total_income)"
   ]
  },
  {
   "cell_type": "code",
   "execution_count": null,
   "metadata": {},
   "outputs": [],
   "source": [
    "# Заменим пропущенные значения ежемесячного дохода на медианы по типам занятости.\n",
    "data.loc[(data['total_income'].isnull()) & (data['income_type'] == 'сотрудник'), 'total_income'] = medians_total_income[6]\n",
    "data.loc[(data['total_income'].isnull()) & (data['income_type'] == 'компаньон'), 'total_income'] = medians_total_income[3]\n",
    "data.loc[(data['total_income'].isnull()) & (data['income_type'] == 'пенсионер'), 'total_income'] = medians_total_income[4]\n",
    "data.loc[(data['total_income'].isnull()) & (data['income_type'] == 'госслужащий'), 'total_income'] = medians_total_income[2]\n",
    "data.loc[(data['total_income'].isnull()) & (data['income_type'] == 'предприниматель'), 'total_income'] = medians_total_income[5]"
   ]
  },
  {
   "cell_type": "markdown",
   "metadata": {},
   "source": [
    "**[2]** Исправление нулевых значений в возрасте клиентов"
   ]
  },
  {
   "cell_type": "code",
   "execution_count": null,
   "metadata": {},
   "outputs": [],
   "source": [
    "# Посмотрим, какой тип занятости имеют клиенты с ошибочным возрастом.\n",
    "data.loc[data['dob_years'] == 0, 'income_type'].value_counts()"
   ]
  },
  {
   "cell_type": "markdown",
   "metadata": {},
   "source": [
    "Всего их 101 человек, большая часть из которых являются сотрудниками организаций."
   ]
  },
  {
   "cell_type": "code",
   "execution_count": null,
   "metadata": {},
   "outputs": [],
   "source": [
    "# Найдем медианные значения возрастов клиентов для каждого типа занятости:\n",
    "age_medians = data.groupby('income_type')['dob_years'].median()\n",
    "age_medians"
   ]
  },
  {
   "cell_type": "code",
   "execution_count": null,
   "metadata": {},
   "outputs": [],
   "source": [
    "# Теперь заменим нулевые значения на медианы по каждому типу занятости.\n",
    "data.loc[(data['dob_years'] == 0) & (data['income_type'] == 'сотрудник'), 'dob_years'] = age_medians[6]\n",
    "data.loc[(data['dob_years'] == 0) & (data['income_type'] == 'пенсионер'), 'dob_years'] = age_medians[4]\n",
    "data.loc[(data['dob_years'] == 0) & (data['income_type'] == 'компаньон'), 'dob_years'] = age_medians[3]\n",
    "data.loc[(data['dob_years'] == 0) & (data['income_type'] == 'госслужащий'), 'dob_years'] = age_medians[2]\n",
    "\n",
    "# Проверим, все ли нули мы исправили.\n",
    "data.loc[data['dob_years'] == 0, 'dob_years'].value_counts()"
   ]
  },
  {
   "cell_type": "markdown",
   "metadata": {},
   "source": [
    "**[3]** Обработка пропущенных значений трудового стажа"
   ]
  },
  {
   "cell_type": "code",
   "execution_count": null,
   "metadata": {},
   "outputs": [],
   "source": [
    "# Проверим, является ли отсутствие данных по трудовому стажу причиной отсутствия данных по доходам, и наоборот.\n",
    "count = 0\n",
    "for i in range(len(data)):\n",
    "    if pd.isna(data.loc[i, 'days_employed']) == pd.isna(data.loc[i, 'total_income']) == True:\n",
    "        count += 1\n",
    "count"
   ]
  },
  {
   "cell_type": "markdown",
   "metadata": {},
   "source": [
    "Действительно, значения трудового стажа пропущены тогда и только тогда, когда пропущены значения ежемесячного дохода."
   ]
  },
  {
   "cell_type": "markdown",
   "metadata": {},
   "source": [
    "Для исправления пропущенных значений воспользуемся медианными значениями по возрасту. Для этого нам потребуется выделить возрастные категории клиентов: в качестве границ категорий выбраны квантили (25%, 50% и 75%)."
   ]
  },
  {
   "cell_type": "code",
   "execution_count": null,
   "metadata": {},
   "outputs": [],
   "source": [
    "age_statistics = data['dob_years'].describe()\n",
    "age_statistics[4:7]"
   ]
  },
  {
   "cell_type": "code",
   "execution_count": null,
   "metadata": {},
   "outputs": [],
   "source": [
    "# напишем функцию, которая принимает на вход возраст клиента и возвращает возрастную категорию\n",
    "def age_group(age):\n",
    "    if age <= age_statistics[4]: return 'до 34'\n",
    "    elif age_statistics[4] < age <= age_statistics[5]: return '34-43'\n",
    "    elif age_statistics[5] < age <= age_statistics[6]: return '43-53'\n",
    "    else: return '53+'\n",
    "    \n",
    "data['age_group'] = data['dob_years'].apply(age_group)\n",
    "data.head(2)"
   ]
  },
  {
   "cell_type": "code",
   "execution_count": null,
   "metadata": {},
   "outputs": [],
   "source": [
    "# Найдем медианное значение трудового стажа для каждой возрастной группы.\n",
    "medians_of_days_employed = data.groupby('age_group')['days_employed'].median()\n",
    "round(medians_of_days_employed, 0)"
   ]
  },
  {
   "cell_type": "code",
   "execution_count": null,
   "metadata": {},
   "outputs": [],
   "source": [
    "# заменим пропущенные значения трудового стажа на медиану из возрастных категорий\n",
    "data.loc[(data['days_employed'].isnull()) & (data['age_group'] == '34-43'), 'days_employed'] = medians_of_days_employed[0]\n",
    "data.loc[(data['days_employed'].isnull()) & (data['age_group'] == '43-53'), 'days_employed'] = medians_of_days_employed[1]\n",
    "data.loc[(data['days_employed'].isnull()) & (data['age_group'] == '53+'), 'days_employed'] = medians_of_days_employed[2]\n",
    "data.loc[(data['days_employed'].isnull()) & (data['age_group'] == 'до 34'), 'days_employed'] = medians_of_days_employed[3]"
   ]
  },
  {
   "cell_type": "markdown",
   "metadata": {},
   "source": [
    "### Вывод"
   ]
  },
  {
   "cell_type": "code",
   "execution_count": null,
   "metadata": {},
   "outputs": [],
   "source": [
    "data.info()"
   ]
  },
  {
   "cell_type": "markdown",
   "metadata": {},
   "source": [
    "Как мы видим, все строки теперь заполнены:\n",
    "- обработаны пропущенные значения по ежемесячному доходу на основе медиан для каждого типа занятости;\n",
    "- исправлены значения нулевого возраста на медианы соответствующего типа занятости;\n",
    "- обработаны пропущенные значения в данных по трудовому стажу на основе медиан для каждой возрастной категории."
   ]
  },
  {
   "cell_type": "markdown",
   "metadata": {},
   "source": [
    "### Замена типа данных"
   ]
  },
  {
   "cell_type": "markdown",
   "metadata": {},
   "source": [
    "Приведем еще раз для наглядности общую информацию по массиву данных."
   ]
  },
  {
   "cell_type": "code",
   "execution_count": null,
   "metadata": {},
   "outputs": [],
   "source": [
    "data.dtypes"
   ]
  },
  {
   "cell_type": "markdown",
   "metadata": {},
   "source": [
    "На данный момент возраст клиентов записан вещественным числом – изменим тип значений этого признака с вещественного на целый."
   ]
  },
  {
   "cell_type": "code",
   "execution_count": null,
   "metadata": {},
   "outputs": [],
   "source": [
    "data['dob_years'] = data['dob_years'].astype('int')"
   ]
  },
  {
   "cell_type": "code",
   "execution_count": null,
   "metadata": {},
   "outputs": [],
   "source": [
    "data.dtypes"
   ]
  },
  {
   "cell_type": "markdown",
   "metadata": {},
   "source": [
    "### Вывод"
   ]
  },
  {
   "cell_type": "markdown",
   "metadata": {},
   "source": [
    "Для замены типа данных был использован метод *'astype'*, так как мы уже обработали пропущенные значения (иначе можно было бы использовать *'to_numeric'*). Тип данных был изменен только для возраста (а не для ежемесячного дохода), так как ежемесячный доход все равно мы будем категоризировать и разбивать по группам."
   ]
  },
  {
   "cell_type": "markdown",
   "metadata": {},
   "source": [
    "### Обработка дубликатов"
   ]
  },
  {
   "cell_type": "markdown",
   "metadata": {},
   "source": [
    "Перед поиском дубликатов приведем все данные по образованию клиентов к нижнему регистру. В противном случае, при поиске дубликатов значения \"Среднее\" и \"среднее\" будут определены, как 2 разных значения, что неверно."
   ]
  },
  {
   "cell_type": "code",
   "execution_count": null,
   "metadata": {},
   "outputs": [],
   "source": [
    "# сосчитаем всех клиентов по уровням образования\n",
    "data['education'].value_counts()"
   ]
  },
  {
   "cell_type": "code",
   "execution_count": null,
   "metadata": {},
   "outputs": [],
   "source": [
    "print('Количество неправильно заполненных ячеек со средним уровнем образования:', 772 + 711)\n",
    "print('Доля ошибок от общего числа клиентов со средним образованием: {:.2%}'. format((772 + 711) / (13750 + 772 + 711)))"
   ]
  },
  {
   "cell_type": "code",
   "execution_count": null,
   "metadata": {},
   "outputs": [],
   "source": [
    "# сделаем все буквы в значениях образования строчными\n",
    "data['education'] = data['education'].str.lower()\n",
    "\n",
    "# посмотрим, что получилось, одновременно посчитая количество клиентов по каждому уровню образования\n",
    "data['education'].value_counts()"
   ]
  },
  {
   "cell_type": "code",
   "execution_count": null,
   "metadata": {},
   "outputs": [],
   "source": [
    "# Посчитаем количество дубликатов в массиве.\n",
    "print('Число дубликатов в массиве данных:', data.duplicated().sum())\n",
    "print('Число полностью идентичных строк:', data.duplicated(keep = False).sum())\n",
    "print('Доля дубликатов из общей длины массива: {:.2%}'.format(data.duplicated().sum() / len(data)))"
   ]
  },
  {
   "cell_type": "code",
   "execution_count": null,
   "metadata": {},
   "outputs": [],
   "source": [
    "# Для наглядности выведем первые 5 строк полностью \"идентичных\" клиентов.\n",
    "data[data.duplicated(keep = False)].sort_values('dob_years', ascending = False).head()"
   ]
  },
  {
   "cell_type": "code",
   "execution_count": null,
   "metadata": {},
   "outputs": [],
   "source": [
    "# Удалим одинаковые строки.\n",
    "data = data.drop_duplicates().reset_index(drop = True)\n",
    "\n",
    "# Проверим число дубликатов.\n",
    "print('Число дубликатов в массиве данных:', data.duplicated().sum())"
   ]
  },
  {
   "cell_type": "markdown",
   "metadata": {},
   "source": [
    "### Вывод"
   ]
  },
  {
   "cell_type": "markdown",
   "metadata": {},
   "source": [
    "1. Необходимо обратить внимание на метод заполнения ячеек с уровнем образования клиентов. На данный момент ячейки заполняются вручную, что приводит к значениям вроде \"среднее\", \"Среднее\" или \"СРЕДНЕЕ\". *На примере среднего образования*: всего были неправильно заполнены данные по **1483 клиентам (9,74% от общего числа клиентов со средним образованием)**. Необходимо ввести условие на нижний регистр и выпадающий список всех возможных вариантов уровня образования.\n",
    "2. При обработке данных были найдены дубликаты в количестве **71 шт.**, что составляет **0,33% от всего числа клиентов в массиве данных**. Необходимо выяснить, связано ли появление дубликатов с технической ошибкой, или же ошибка носит человеческий фактор. При удалении дубликатов использовался метод *drop_duplicates()*, так как его целью является поиск идентичных строк, что нам и требовалось."
   ]
  },
  {
   "cell_type": "markdown",
   "metadata": {},
   "source": [
    "### Лемматизация"
   ]
  },
  {
   "cell_type": "code",
   "execution_count": null,
   "metadata": {},
   "outputs": [],
   "source": [
    "# Импортируем библиотеку *pymystem3* и *collections*\n",
    "from pymystem3 import Mystem\n",
    "from collections import Counter\n",
    "m = Mystem()\n",
    "\n",
    "# Посчитаем все варианты целей кредита.\n",
    "data['purpose'].value_counts()"
   ]
  },
  {
   "cell_type": "markdown",
   "metadata": {},
   "source": [
    "Среди всех возможных целей получения кредита можно выделить всего 5 ключевых слов, которые отражают главную цель."
   ]
  },
  {
   "cell_type": "code",
   "execution_count": null,
   "metadata": {},
   "outputs": [],
   "source": [
    "# основные ключевые слова можно выделить вручную\n",
    "categories = [\"сдача\", \"коммерческий\", \"жилье\", \"образование\", \"свадьба\", \"недвижимость\", \"автомобиль\"]\n",
    "\n",
    "# проведем лемматизацию,\n",
    "# одновременно заменив полученный список лемм в каждой строке на главное ключевое слово из списка категорий\n",
    "\n",
    "def lemmatize(text):\n",
    "    lemma = m.lemmatize(text)\n",
    "    for word in categories:\n",
    "        if word in lemma:\n",
    "            lemma = word\n",
    "    return lemma\n",
    "\n",
    "data['purpose_group'] = data['purpose'].apply(lemmatize)        \n",
    "data.head(2)"
   ]
  },
  {
   "cell_type": "code",
   "execution_count": null,
   "metadata": {},
   "outputs": [],
   "source": [
    "# Посчитаем все возможные категории целей кредита.\n",
    "data['purpose_group'].value_counts()"
   ]
  },
  {
   "cell_type": "markdown",
   "metadata": {},
   "source": [
    "Поскольку **жилье** тоже относится к **недвижимости**, то сделаем соответствующую замену. Кроме того, заменим категории по *покупке коммерческой недвижимости* или *покупке жилой недвижимости для сдачи в наем* на **инвестиционную цель** и снова посчитаем число категорий."
   ]
  },
  {
   "cell_type": "code",
   "execution_count": null,
   "metadata": {},
   "outputs": [],
   "source": [
    "data.loc[data['purpose_group'] == 'жилье', 'purpose_group'] = 'недвижимость'\n",
    "data.loc[(data['purpose_group'] == 'коммерческий') | (data['purpose_group'] == 'сдача'), 'purpose_group'] = 'инвестиционная цель'\n",
    "data['purpose_group'].value_counts()"
   ]
  },
  {
   "cell_type": "markdown",
   "metadata": {},
   "source": [
    "### Вывод"
   ]
  },
  {
   "cell_type": "markdown",
   "metadata": {},
   "source": [
    "Из цели получения кредита каждого клиента было выделено по одному ключевому слову:\n",
    "- цель **на покупку своего автомобиля** заменяется на **автомобиль**\n",
    "- цель **покупка жилой недвижимости** заменяется на **недвижимость**\n",
    "- и т.д.\n",
    "\n",
    "Подобное выделение ключевых слов из целей клиентов упрощает дальнейший анализ и сохраняет основной смысл цели получения кредита.\n",
    "\n",
    "Все цели, содержащие производные слова от слова **жилье** (3809 чел.), были заменены на категорию **недвижимость** (цели с исходным ключевым словом насчитывают 5040 чел.), кроме целей по покупке коммерческой недвижимости (1311 чел.) или покупке жилой недвижимости для сдачи в наем (651 чел.).\n",
    "\n",
    "Если обычная покупка жилой недвижимости относится к конечному потреблению, то приобретение коммерческой недвижимости или недвижимости для сдачи в наем относится к инвестиционным целям, т.е. этот кредит клиенты планируют не только вернуть, но вероятно еще и окупить. То есть клиенты планируют *в ближайшем будущем получать положительный денежный поток*. **Доля таких клиентов составляет 9,1%** от общего числа клиентов, поэтому ими не стоит пренебрегать, а стоит выделить отдельно."
   ]
  },
  {
   "cell_type": "markdown",
   "metadata": {},
   "source": [
    "### Категоризация данных"
   ]
  },
  {
   "cell_type": "markdown",
   "metadata": {},
   "source": [
    "Ранее уже были созданы два вида категорий: один — по возрастам (*'age_group'*), другой — по целям (*'purpose_category'*). Но для ответа на поставленные вопросы потребуется провести еще одну категоризацию — по доходам. Для этого воспользуемся квантилями 25%, 50% и 75%."
   ]
  },
  {
   "cell_type": "code",
   "execution_count": null,
   "metadata": {},
   "outputs": [],
   "source": [
    "statistics = data['total_income'].describe()\n",
    "statistics[4:7]"
   ]
  },
  {
   "cell_type": "code",
   "execution_count": null,
   "metadata": {},
   "outputs": [],
   "source": [
    "# функция для определения категории доходов\n",
    "def determine_income_group(income):\n",
    "    if income <= statistics[4]: return 1\n",
    "    elif statistics[4] < income <= statistics[5]: return 2\n",
    "    elif statistics[5] < income <= statistics[6]: return 3\n",
    "    else: return 4\n",
    "\n",
    "# применим функцию к столбцу доходов\n",
    "data['income_group'] = data['total_income'].apply(determine_income_group)\n",
    "data.head()"
   ]
  },
  {
   "cell_type": "markdown",
   "metadata": {},
   "source": [
    "### Вывод"
   ]
  },
  {
   "cell_type": "markdown",
   "metadata": {},
   "source": [
    "#### Категоризация по возрастам"
   ]
  },
  {
   "cell_type": "markdown",
   "metadata": {},
   "source": [
    "Категоризация по возрастам (*'age_group'*) была проведена при устранении пропущенных значений: в ней были использованы квантили (25%, 50% и 75%):"
   ]
  },
  {
   "cell_type": "code",
   "execution_count": null,
   "metadata": {},
   "outputs": [],
   "source": [
    "data['age_group'].value_counts()"
   ]
  },
  {
   "cell_type": "markdown",
   "metadata": {},
   "source": [
    "Больше всего клиентов в возрасте до 34 лет, их доля составляет 27,8%."
   ]
  },
  {
   "cell_type": "markdown",
   "metadata": {},
   "source": [
    "#### Категоризация по целям"
   ]
  },
  {
   "cell_type": "markdown",
   "metadata": {},
   "source": [
    "Категоризация по целям (*'purpose_category'*) была проведена ранее при лемматизации."
   ]
  },
  {
   "cell_type": "code",
   "execution_count": null,
   "metadata": {},
   "outputs": [],
   "source": [
    "data['purpose_group'].value_counts()"
   ]
  },
  {
   "cell_type": "markdown",
   "metadata": {},
   "source": [
    "Чаще всего клиенты берут кредит для приобретения недвижимости: доля таких клиентов из общего числа составляет 41,2%."
   ]
  },
  {
   "cell_type": "markdown",
   "metadata": {},
   "source": [
    "#### Категоризация по доходам"
   ]
  },
  {
   "cell_type": "markdown",
   "metadata": {},
   "source": [
    "В качестве границ для категоризации доходов были использованы квантили (25%, 50% и 75%)."
   ]
  },
  {
   "cell_type": "code",
   "execution_count": null,
   "metadata": {},
   "outputs": [],
   "source": [
    "data['income_group'].value_counts()"
   ]
  },
  {
   "cell_type": "markdown",
   "metadata": {},
   "source": [
    "Другими словами:\n",
    "- доход 5364 человек меньше или равен 107,6 тыс. рублей\n",
    "- доход 5479 человек находится в диапазоне от 107,6 до 142,6 тыс. рублей\n",
    "- доход 5247 человек находится в диапазоне от 142,6 до 195,8 тыс. рублей\n",
    "- наконец, 5364 человек зарабатывают больше 195,8 тыс. рублей"
   ]
  },
  {
   "cell_type": "markdown",
   "metadata": {},
   "source": [
    "### Шаг 3. Ответьте на вопросы"
   ]
  },
  {
   "cell_type": "markdown",
   "metadata": {},
   "source": [
    "- Есть ли зависимость между наличием детей и возвратом кредита в срок?"
   ]
  },
  {
   "cell_type": "code",
   "execution_count": null,
   "metadata": {},
   "outputs": [],
   "source": [
    "# Заменим ошибочные значения в количестве детей из следующего предположения:\n",
    "# вместо 20 детей укажем 2-х, вместо -1 укажем 1.\n",
    "data.loc[data['children'] == 20, 'children'] = 2\n",
    "data.loc[data['children'] == -1, 'children'] = 1\n",
    "\n",
    "# напишем функцию для категоризации клиентов: 1 — есть дети, 0 — нет детей.\n",
    "def determine_children(children):\n",
    "    if children > 0: return 1\n",
    "    else: return 0\n",
    "\n",
    "# добавим новый столбец с бинарным признаком в наш исходный массив\n",
    "data['child_exist'] = data['children'].apply(determine_children)"
   ]
  },
  {
   "cell_type": "markdown",
   "metadata": {},
   "source": [
    "Для ответа на поставленный вопрос даже не требуется формула Байеса, воспользуемся сводными таблицами."
   ]
  },
  {
   "cell_type": "markdown",
   "metadata": {},
   "source": [
    "Пусть:\n",
    "- событие $А$ — существует задолженность по кредиту,\n",
    "- событие $B$ — у клиента есть дети."
   ]
  },
  {
   "cell_type": "code",
   "execution_count": null,
   "metadata": {},
   "outputs": [],
   "source": [
    "# построим сводную таблицу\n",
    "data_pivot = data.pivot_table(index = ['child_exist'], values = 'debt').round(3)\n",
    "#data_pivot['ratio'] = data_pivot[1] / data_pivot[0]\n",
    "data_pivot.head()"
   ]
  },
  {
   "cell_type": "markdown",
   "metadata": {},
   "source": [
    "Тогда **вероятность задолженности при условии, что у клиента есть дети составляет:**"
   ]
  },
  {
   "cell_type": "markdown",
   "metadata": {},
   "source": [
    "$$P(A|B) = 0.092$$"
   ]
  },
  {
   "cell_type": "markdown",
   "metadata": {},
   "source": [
    "А **вероятность задолженности при условии, что у клиента нет детей составляет:**"
   ]
  },
  {
   "cell_type": "markdown",
   "metadata": {},
   "source": [
    "$$P(A|\\bar{B}) = 0.075$$"
   ]
  },
  {
   "cell_type": "markdown",
   "metadata": {},
   "source": [
    "### Вывод"
   ]
  },
  {
   "cell_type": "markdown",
   "metadata": {},
   "source": [
    "Вывод контринтуитивный: судя по имеющимся данным, наличие детей увеличивает вероятность задолженности по сравнению с отсутствием детей у клиента **на 1.7 пп.**: **9,2%** против **7,5%** соответственно.\n",
    "\n",
    "Объяснить это можно следующим образом: при сложной материальной ситуации клиент предпочтет задолжать банку, чем не обеспечить своего ребенка всем необходимым."
   ]
  },
  {
   "cell_type": "markdown",
   "metadata": {},
   "source": [
    "- Есть ли зависимость между семейным положением и возвратом кредита в срок?"
   ]
  },
  {
   "cell_type": "code",
   "execution_count": null,
   "metadata": {},
   "outputs": [],
   "source": [
    "data_pivot = data.pivot_table(index = ['family_status'], columns = 'debt', values = 'gender', aggfunc = 'count')\n",
    "\n",
    "# посчитаем вероятность задолженности для каждого вида семейного положения\n",
    "data_pivot['ratio'] = round(data_pivot[1] / (data_pivot[0] + data_pivot[1]), 3)\n",
    "data_pivot.sort_values('ratio', ascending = False)"
   ]
  },
  {
   "cell_type": "markdown",
   "metadata": {},
   "source": [
    "### Вывод"
   ]
  },
  {
   "cell_type": "markdown",
   "metadata": {},
   "source": [
    "Если клиент хотя бы раз в жизни был в браке (либо сейчас состоит в браке, либо супруг / супруга скончалась, либо развелся с супругом / супругой), то вероятность задолженности будет меньше **на 1.8-3.2 пп.**, чем у клиента, который не состоит в официальном браке. Видимо, жизнь в браке учит отдавать долги больше, чем жизнь вне брака.\n",
    "\n",
    "Получившиеся вероятности, отсортированные по убыванию:\n",
    "1. не женат / не замужем = **9,8%**\n",
    "2. гражданский брак = **9,3%**\n",
    "3. женат / замужем = **7,5%**\n",
    "4. в разводе = **7,1%**\n",
    "5. вдовец / вдова = **6,6%**"
   ]
  },
  {
   "cell_type": "markdown",
   "metadata": {},
   "source": [
    "- Есть ли зависимость между уровнем дохода и возвратом кредита в срок?"
   ]
  },
  {
   "cell_type": "code",
   "execution_count": null,
   "metadata": {},
   "outputs": [],
   "source": [
    "data_pivot = data.pivot_table(index = ['income_group'], columns = 'debt', values = 'gender', aggfunc = 'count')\n",
    "\n",
    "# посчитаем вероятность задолженности для каждой группы доходов\n",
    "data_pivot['ratio'] = round(data_pivot[1] / (data_pivot[0] + data_pivot[1]), 3)\n",
    "data_pivot.sort_values('ratio', ascending = False)"
   ]
  },
  {
   "cell_type": "markdown",
   "metadata": {},
   "source": [
    "### Вывод"
   ]
  },
  {
   "cell_type": "markdown",
   "metadata": {},
   "source": [
    "Действительно, клиент зарабатывает больше, чем 75% других клиентов из выборки, он с наименьшей вероятностью окажется в должниках (вероятность всего **7,1%**). Однако удивительно, что на втором месте клиенты не из 50-75% группы, а клиенты из группы с наименьшим уровнем доходов: для них вероятность задолженноси составила всего **8,0%**. Объяснить это можно тем, что люди с наименьшими доходами лучше распоряжаются своими средствами и умеют контролировать свой бюджет, чем те, кто зарабатывает немногим больше.\n",
    "\n",
    "Получившиеся вероятности задолженности, отсортированные по убыванию:\n",
    "1. доход в диапазоне от 107,6 до 142,6 тыс. рублей в месяц = **8,8%**\n",
    "2. доход в диапазоне от 142,6 до 195,8 тыс. рублей = **8,5%**\n",
    "3. доход меньше или равен 107,6 тыс. руб. = **8,0%**\n",
    "4. больше 195,8 тыс. рублей = **7,1%**"
   ]
  },
  {
   "cell_type": "markdown",
   "metadata": {},
   "source": [
    "- Как разные цели кредита влияют на его возврат в срок?"
   ]
  },
  {
   "cell_type": "code",
   "execution_count": null,
   "metadata": {},
   "outputs": [],
   "source": [
    "data_pivot = data.pivot_table(index = ['purpose_group'], columns = 'debt', values = 'gender', aggfunc = 'count')\n",
    "\n",
    "# посчитаем вероятность задолженности для каждой группы доходов\n",
    "data_pivot['ratio'] = round(data_pivot[1] / (data_pivot[0] + data_pivot[1]), 3)\n",
    "data_pivot.sort_values('ratio', ascending = False)"
   ]
  },
  {
   "cell_type": "markdown",
   "metadata": {},
   "source": [
    "### Вывод"
   ]
  },
  {
   "cell_type": "markdown",
   "metadata": {},
   "source": [
    "Получившиеся вероятности задолженности для каждой цели получения кредита, отсортированные по убыванию:\n",
    "1. автомобиль - **9,4%**\n",
    "2. образование - **9,2%**\n",
    "3. свадьба - **8,0%**\n",
    "4. инвестиционная цель - **7,7%**\n",
    "5. недвижимость - **7,1%**"
   ]
  },
  {
   "cell_type": "markdown",
   "metadata": {},
   "source": [
    "Самая низкая вероятность задолженности у клиентов, которые берут кредит для собственной недвижимости (покупка, строительство и т.д.). Люди настолько заинтересованы в собственном жилье, что платят даже ответственнее по сравнению с теми, кто берет кредит на инвестиционные цели (7,1% против 7,7%). Интересный факт: клиенты, берущие кредит на свадьбу, не самые безответственные плательщики из выборки – для них вероятность всего 8,0%. Хуже них платят только по образовательным и автокредитам."
   ]
  },
  {
   "cell_type": "markdown",
   "metadata": {},
   "source": [
    "### Шаг 4. Общий вывод"
   ]
  },
  {
   "cell_type": "markdown",
   "metadata": {},
   "source": [
    "Портрет идеального клиента можно было бы описать следующим образом (описание будет для мужского пола, то же верно и для женского (зависимость задолженности по кредиту от пола клиента стоит рассмотреть в будущем)):\n",
    "- *Женатый мужчина (либо ранее был женат), без детей, зарабатывает больше 196 тыс. рублей в месяц, цель получения кредита – приобретение собственного жилья.*\n",
    "\n",
    "Такое описание говорит с одной стороны об умении нести ответственность в некоторой степени (в виде официального брака в настоящем или в прошлом), о высоком уровне достатка и некоторой доле эгоизма, поскольку человек не имеет детей. Таким образом, у него есть средства на выплату кредита, есть собственная материальная цель, но нет сдерживающих факторов в виде иждивенцев."
   ]
  },
  {
   "cell_type": "markdown",
   "metadata": {},
   "source": [
    "### Чек-лист готовности проекта\n",
    "\n",
    "Поставьте 'x' в выполненных пунктах. Далее нажмите Shift+Enter."
   ]
  },
  {
   "cell_type": "markdown",
   "metadata": {},
   "source": [
    "- [x]  открыт файл;\n",
    "- [x]  файл изучен;\n",
    "- [x]  определены пропущенные значения;\n",
    "- [x]  заполнены пропущенные значения;\n",
    "- [x]  есть пояснение какие пропущенные значения обнаружены;\n",
    "- [x]  описаны возможные причины появления пропусков в данных;\n",
    "- [x]  объяснено по какому принципу заполнены пропуски;\n",
    "- [x]  заменен вещественный тип данных на целочисленный;\n",
    "- [x]  есть пояснение какой метод используется для изменения типа данных и почему;\n",
    "- [x]  удалены дубликаты;\n",
    "- [x]  есть пояснение какой метод используется для поиска и удаления дубликатов;\n",
    "- [x]  описаны возможные причины появления дубликатов в данных;\n",
    "- [x]  выделены леммы в значениях столбца с целями получения кредита;\n",
    "- [x]  описан процесс лемматизации;\n",
    "- [x]  данные категоризированы;\n",
    "- [x]  есть объяснение принципа категоризации данных;\n",
    "- [x]  есть ответ на вопрос \"Есть ли зависимость между наличием детей и возвратом кредита в срок?\";\n",
    "- [x]  есть ответ на вопрос \"Есть ли зависимость между семейным положением и возвратом кредита в срок?\";\n",
    "- [x]  есть ответ на вопрос \"Есть ли зависимость между уровнем дохода и возвратом кредита в срок?\";\n",
    "- [x]  есть ответ на вопрос \"Как разные цели кредита влияют на его возврат в срок?\";\n",
    "- [x]  в каждом этапе есть выводы;\n",
    "- [x]  есть общий вывод."
   ]
  }
 ],
 "metadata": {
  "kernelspec": {
   "display_name": "Python 3",
   "language": "python",
   "name": "python3"
  },
  "language_info": {
   "codemirror_mode": {
    "name": "ipython",
    "version": 3
   },
   "file_extension": ".py",
   "mimetype": "text/x-python",
   "name": "python",
   "nbconvert_exporter": "python",
   "pygments_lexer": "ipython3",
   "version": "3.7.3"
  }
 },
 "nbformat": 4,
 "nbformat_minor": 2
}
